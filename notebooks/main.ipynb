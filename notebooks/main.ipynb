{
 "cells": [
  {
   "metadata": {},
   "cell_type": "markdown",
   "source": "# Data Exploration",
   "id": "7a63b33ddbbc9214"
  },
  {
   "metadata": {},
   "cell_type": "markdown",
   "source": "## Data Exploration",
   "id": "fc7d170757985fa0"
  },
  {
   "metadata": {
    "ExecuteTime": {
     "end_time": "2025-04-24T19:55:54.139360Z",
     "start_time": "2025-04-24T19:55:53.464753Z"
    }
   },
   "cell_type": "code",
   "source": [
    "# Importing libraries\n",
    "\n",
    "import matplotlib.pyplot as plt\n",
    "import pandas as pd\n",
    "import os"
   ],
   "id": "38db4725a1cfe991",
   "outputs": [],
   "execution_count": 6
  },
  {
   "metadata": {
    "ExecuteTime": {
     "end_time": "2025-04-24T19:46:03.522092Z",
     "start_time": "2025-04-24T19:46:03.441148Z"
    }
   },
   "cell_type": "code",
   "source": [
    "# Importing dataset\n",
    "\n",
    "hotel_dataset = pd.read_csv('../data/hotel_bookings.csv')"
   ],
   "id": "d57edfc467793283",
   "outputs": [],
   "execution_count": 2
  },
  {
   "metadata": {
    "ExecuteTime": {
     "end_time": "2025-04-24T19:46:04.138477Z",
     "start_time": "2025-04-24T19:46:04.132348Z"
    }
   },
   "cell_type": "code",
   "source": "hotel_dataset.shape",
   "id": "83e078d8811702f7",
   "outputs": [
    {
     "data": {
      "text/plain": [
       "(36275, 19)"
      ]
     },
     "execution_count": 3,
     "metadata": {},
     "output_type": "execute_result"
    }
   ],
   "execution_count": 3
  },
  {
   "metadata": {},
   "cell_type": "markdown",
   "source": "The dataset includes around 36,000 entries with 19 attributes capturing key details about customer reservations, booking behavior, and hotel operations.",
   "id": "2d8eb7f6cc094f9d"
  },
  {
   "metadata": {
    "ExecuteTime": {
     "end_time": "2025-04-24T19:46:18.150264Z",
     "start_time": "2025-04-24T19:46:18.108197Z"
    }
   },
   "cell_type": "code",
   "source": [
    "# Data summary\n",
    "\n",
    "hotel_dataset.describe()"
   ],
   "id": "9709dfc1229b315e",
   "outputs": [
    {
     "data": {
      "text/plain": [
       "       no_of_adults  no_of_children  no_of_weekend_nights  no_of_week_nights  \\\n",
       "count  35862.000000    35951.000000          35908.000000        35468.00000   \n",
       "mean       1.845017        0.105366              0.810209            2.20331   \n",
       "std        0.518652        0.402871              0.870857            1.40989   \n",
       "min        0.000000        0.000000              0.000000            0.00000   \n",
       "25%        2.000000        0.000000              0.000000            1.00000   \n",
       "50%        2.000000        0.000000              1.000000            2.00000   \n",
       "75%        2.000000        0.000000              2.000000            3.00000   \n",
       "max        4.000000       10.000000              7.000000           17.00000   \n",
       "\n",
       "       required_car_parking_space     lead_time  arrival_year  arrival_month  \\\n",
       "count                33683.000000  35803.000000  35897.000000   35771.000000   \n",
       "mean                     0.030698     85.276569   2017.820431       7.424031   \n",
       "std                      0.172501     85.998845      0.383834       3.068277   \n",
       "min                      0.000000      0.000000   2017.000000       1.000000   \n",
       "25%                      0.000000     17.000000   2018.000000       5.000000   \n",
       "50%                      0.000000     57.000000   2018.000000       8.000000   \n",
       "75%                      0.000000    126.000000   2018.000000      10.000000   \n",
       "max                      1.000000    443.000000   2018.000000      12.000000   \n",
       "\n",
       "       arrival_date  repeated_guest  no_of_previous_cancellations  \\\n",
       "count  35294.000000    35689.000000                  35778.000000   \n",
       "mean      15.605712        0.025666                      0.023646   \n",
       "std        8.743484        0.158140                      0.370835   \n",
       "min        1.000000        0.000000                      0.000000   \n",
       "25%        8.000000        0.000000                      0.000000   \n",
       "50%       16.000000        0.000000                      0.000000   \n",
       "75%       23.000000        0.000000                      0.000000   \n",
       "max       31.000000        1.000000                     13.000000   \n",
       "\n",
       "       no_of_previous_bookings_not_canceled  avg_price_per_room  \\\n",
       "count                          35725.000000        35815.000000   \n",
       "mean                               0.154458          103.418207   \n",
       "std                                1.764805           35.057342   \n",
       "min                                0.000000            0.000000   \n",
       "25%                                0.000000           80.300000   \n",
       "50%                                0.000000           99.450000   \n",
       "75%                                0.000000          120.000000   \n",
       "max                               58.000000          540.000000   \n",
       "\n",
       "       no_of_special_requests  \n",
       "count            35486.000000  \n",
       "mean                 0.619343  \n",
       "std                  0.785849  \n",
       "min                  0.000000  \n",
       "25%                  0.000000  \n",
       "50%                  0.000000  \n",
       "75%                  1.000000  \n",
       "max                  5.000000  "
      ],
      "text/html": [
       "<div>\n",
       "<style scoped>\n",
       "    .dataframe tbody tr th:only-of-type {\n",
       "        vertical-align: middle;\n",
       "    }\n",
       "\n",
       "    .dataframe tbody tr th {\n",
       "        vertical-align: top;\n",
       "    }\n",
       "\n",
       "    .dataframe thead th {\n",
       "        text-align: right;\n",
       "    }\n",
       "</style>\n",
       "<table border=\"1\" class=\"dataframe\">\n",
       "  <thead>\n",
       "    <tr style=\"text-align: right;\">\n",
       "      <th></th>\n",
       "      <th>no_of_adults</th>\n",
       "      <th>no_of_children</th>\n",
       "      <th>no_of_weekend_nights</th>\n",
       "      <th>no_of_week_nights</th>\n",
       "      <th>required_car_parking_space</th>\n",
       "      <th>lead_time</th>\n",
       "      <th>arrival_year</th>\n",
       "      <th>arrival_month</th>\n",
       "      <th>arrival_date</th>\n",
       "      <th>repeated_guest</th>\n",
       "      <th>no_of_previous_cancellations</th>\n",
       "      <th>no_of_previous_bookings_not_canceled</th>\n",
       "      <th>avg_price_per_room</th>\n",
       "      <th>no_of_special_requests</th>\n",
       "    </tr>\n",
       "  </thead>\n",
       "  <tbody>\n",
       "    <tr>\n",
       "      <th>count</th>\n",
       "      <td>35862.000000</td>\n",
       "      <td>35951.000000</td>\n",
       "      <td>35908.000000</td>\n",
       "      <td>35468.00000</td>\n",
       "      <td>33683.000000</td>\n",
       "      <td>35803.000000</td>\n",
       "      <td>35897.000000</td>\n",
       "      <td>35771.000000</td>\n",
       "      <td>35294.000000</td>\n",
       "      <td>35689.000000</td>\n",
       "      <td>35778.000000</td>\n",
       "      <td>35725.000000</td>\n",
       "      <td>35815.000000</td>\n",
       "      <td>35486.000000</td>\n",
       "    </tr>\n",
       "    <tr>\n",
       "      <th>mean</th>\n",
       "      <td>1.845017</td>\n",
       "      <td>0.105366</td>\n",
       "      <td>0.810209</td>\n",
       "      <td>2.20331</td>\n",
       "      <td>0.030698</td>\n",
       "      <td>85.276569</td>\n",
       "      <td>2017.820431</td>\n",
       "      <td>7.424031</td>\n",
       "      <td>15.605712</td>\n",
       "      <td>0.025666</td>\n",
       "      <td>0.023646</td>\n",
       "      <td>0.154458</td>\n",
       "      <td>103.418207</td>\n",
       "      <td>0.619343</td>\n",
       "    </tr>\n",
       "    <tr>\n",
       "      <th>std</th>\n",
       "      <td>0.518652</td>\n",
       "      <td>0.402871</td>\n",
       "      <td>0.870857</td>\n",
       "      <td>1.40989</td>\n",
       "      <td>0.172501</td>\n",
       "      <td>85.998845</td>\n",
       "      <td>0.383834</td>\n",
       "      <td>3.068277</td>\n",
       "      <td>8.743484</td>\n",
       "      <td>0.158140</td>\n",
       "      <td>0.370835</td>\n",
       "      <td>1.764805</td>\n",
       "      <td>35.057342</td>\n",
       "      <td>0.785849</td>\n",
       "    </tr>\n",
       "    <tr>\n",
       "      <th>min</th>\n",
       "      <td>0.000000</td>\n",
       "      <td>0.000000</td>\n",
       "      <td>0.000000</td>\n",
       "      <td>0.00000</td>\n",
       "      <td>0.000000</td>\n",
       "      <td>0.000000</td>\n",
       "      <td>2017.000000</td>\n",
       "      <td>1.000000</td>\n",
       "      <td>1.000000</td>\n",
       "      <td>0.000000</td>\n",
       "      <td>0.000000</td>\n",
       "      <td>0.000000</td>\n",
       "      <td>0.000000</td>\n",
       "      <td>0.000000</td>\n",
       "    </tr>\n",
       "    <tr>\n",
       "      <th>25%</th>\n",
       "      <td>2.000000</td>\n",
       "      <td>0.000000</td>\n",
       "      <td>0.000000</td>\n",
       "      <td>1.00000</td>\n",
       "      <td>0.000000</td>\n",
       "      <td>17.000000</td>\n",
       "      <td>2018.000000</td>\n",
       "      <td>5.000000</td>\n",
       "      <td>8.000000</td>\n",
       "      <td>0.000000</td>\n",
       "      <td>0.000000</td>\n",
       "      <td>0.000000</td>\n",
       "      <td>80.300000</td>\n",
       "      <td>0.000000</td>\n",
       "    </tr>\n",
       "    <tr>\n",
       "      <th>50%</th>\n",
       "      <td>2.000000</td>\n",
       "      <td>0.000000</td>\n",
       "      <td>1.000000</td>\n",
       "      <td>2.00000</td>\n",
       "      <td>0.000000</td>\n",
       "      <td>57.000000</td>\n",
       "      <td>2018.000000</td>\n",
       "      <td>8.000000</td>\n",
       "      <td>16.000000</td>\n",
       "      <td>0.000000</td>\n",
       "      <td>0.000000</td>\n",
       "      <td>0.000000</td>\n",
       "      <td>99.450000</td>\n",
       "      <td>0.000000</td>\n",
       "    </tr>\n",
       "    <tr>\n",
       "      <th>75%</th>\n",
       "      <td>2.000000</td>\n",
       "      <td>0.000000</td>\n",
       "      <td>2.000000</td>\n",
       "      <td>3.00000</td>\n",
       "      <td>0.000000</td>\n",
       "      <td>126.000000</td>\n",
       "      <td>2018.000000</td>\n",
       "      <td>10.000000</td>\n",
       "      <td>23.000000</td>\n",
       "      <td>0.000000</td>\n",
       "      <td>0.000000</td>\n",
       "      <td>0.000000</td>\n",
       "      <td>120.000000</td>\n",
       "      <td>1.000000</td>\n",
       "    </tr>\n",
       "    <tr>\n",
       "      <th>max</th>\n",
       "      <td>4.000000</td>\n",
       "      <td>10.000000</td>\n",
       "      <td>7.000000</td>\n",
       "      <td>17.00000</td>\n",
       "      <td>1.000000</td>\n",
       "      <td>443.000000</td>\n",
       "      <td>2018.000000</td>\n",
       "      <td>12.000000</td>\n",
       "      <td>31.000000</td>\n",
       "      <td>1.000000</td>\n",
       "      <td>13.000000</td>\n",
       "      <td>58.000000</td>\n",
       "      <td>540.000000</td>\n",
       "      <td>5.000000</td>\n",
       "    </tr>\n",
       "  </tbody>\n",
       "</table>\n",
       "</div>"
      ]
     },
     "execution_count": 4,
     "metadata": {},
     "output_type": "execute_result"
    }
   ],
   "execution_count": 4
  },
  {
   "metadata": {},
   "cell_type": "markdown",
   "source": "The median number of adults per booking is 2, while the median number of children is 1. On average, guests stay for 1 night over the weekend and 1 night during the week. Reservations are typically made 57 days in advance, with peak activity observed during the summer months. The average room price is approximately $100 per night.",
   "id": "31358edc94ac91da"
  },
  {
   "metadata": {
    "ExecuteTime": {
     "end_time": "2025-04-24T20:10:35.067287Z",
     "start_time": "2025-04-24T20:10:34.861882Z"
    }
   },
   "cell_type": "code",
   "source": [
    "counts = hotel_dataset['no_of_adults'].value_counts().sort_index()\n",
    "\n",
    "plt.bar(counts.index, counts.values, color='lightblue')\n",
    "\n",
    "plt.title('Number of Adults per Booking')\n",
    "plt.xlabel('Adults')\n",
    "plt.ylabel('Frequency')\n",
    "plt.xticks(counts.index)\n",
    "plt.grid(axis='y', linestyle='--', alpha=0.3)\n",
    "\n",
    "# Keep only left and bottom spines\n",
    "ax = plt.gca()\n",
    "ax.spines['top'].set_visible(False)\n",
    "ax.spines['right'].set_visible(False)\n",
    "\n",
    "plt.savefig(\"../plots/no_of_adults.png\", dpi=300, bbox_inches='tight')\n",
    "\n",
    "plt.show()"
   ],
   "id": "8cf375935ab69077",
   "outputs": [
    {
     "data": {
      "text/plain": [
       "<Figure size 640x480 with 1 Axes>"
      ],
      "image/png": "[encoded data removed]"
     },
     "metadata": {},
     "output_type": "display_data"
    }
   ],
   "execution_count": 26
  },
  {
   "metadata": {
    "ExecuteTime": {
     "end_time": "2025-04-24T20:10:00.108454Z",
     "start_time": "2025-04-24T20:10:00.044947Z"
    }
   },
   "cell_type": "code",
   "source": "plt.savefig(\"../plots/no_of_adults.png\", dpi=300, bbox_inches='tight')",
   "id": "1e09f1005484cf7c",
   "outputs": [
    {
     "data": {
      "text/plain": [
       "<Figure size 640x480 with 0 Axes>"
      ]
     },
     "metadata": {},
     "output_type": "display_data"
    }
   ],
   "execution_count": 24
  },
  {
   "metadata": {},
   "cell_type": "code",
   "outputs": [],
   "execution_count": null,
   "source": "",
   "id": "3c0f105dcde30ccd"
  }
 ],
 "metadata": {
  "kernelspec": {
   "display_name": "Python 3",
   "language": "python",
   "name": "python3"
  },
  "language_info": {
   "codemirror_mode": {
    "name": "ipython",
    "version": 2
   },
   "file_extension": ".py",
   "mimetype": "text/x-python",
   "name": "python",
   "nbconvert_exporter": "python",
   "pygments_lexer": "ipython2",
   "version": "2.7.6"
  }
 },
 "nbformat": 4,
 "nbformat_minor": 5
}
